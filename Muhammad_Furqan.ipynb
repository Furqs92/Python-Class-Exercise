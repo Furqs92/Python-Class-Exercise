{
 "cells": [
  {
   "cell_type": "markdown",
   "metadata": {
    "deletable": false,
    "editable": false,
    "nbgrader": {
     "checksum": "43232353126581199187d90d19bef210",
     "grade": false,
     "grade_id": "cell-68b8249be22430ec",
     "locked": true,
     "schema_version": 1,
     "solution": false
    }
   },
   "source": [
    "# 1. Ranges as lists\n",
    "\n",
    "Write a function <b>`range_list(end, start, step)`</b> that gives a list with the numbers that lie in the interval $[start, end)$ with a difference of *step* between consecutive numbers (just as Python's <b><a href=\"https://docs.python.org/3/library/stdtypes.html#typesseq-range\">`range`</a></b> does and with the same defaults it has). For example:\n",
    "\n",
    "* `range_list(5)` yields `[0, 1, 2, 3, 4]`.\n",
    "* `range_list(10, start=2, step=2)` gives `[2, 4, 6, 8]`."
   ]
  },
  {
   "cell_type": "code",
   "execution_count": 1,
   "metadata": {
    "deletable": false,
    "nbgrader": {
     "checksum": "6ffc785d728bb66bf1d1cc359a9b5f5b",
     "grade": false,
     "grade_id": "cell-f30c9948814b1cbd",
     "locked": false,
     "schema_version": 1,
     "solution": true
    }
   },
   "outputs": [],
   "source": [
    "# YOUR CODE HERE\n",
    "def range_list(N,start=0,step=1):\n",
    "    l=[]\n",
    "    if step > 0:\n",
    "        while not start >= N:\n",
    "            l.append(start)\n",
    "            arb=start+step\n",
    "            start=arb\n",
    "    elif step < 0:\n",
    "        while start > N:\n",
    "            l.append(start)\n",
    "            arb=start+step\n",
    "            start=arb\n",
    "    return l[:]"
   ]
  },
  {
   "cell_type": "code",
   "execution_count": 2,
   "metadata": {
    "deletable": false,
    "editable": false,
    "nbgrader": {
     "checksum": "ae20733dca5b70a1d539c24f3d55175d",
     "grade": true,
     "grade_id": "cell-3d2e771c92b1ed66",
     "locked": true,
     "points": 1,
     "schema_version": 1,
     "solution": false
    }
   },
   "outputs": [],
   "source": [
    "assert(range_list(10) == [0, 1, 2, 3, 4, 5, 6, 7, 8, 9])\n",
    "assert(range_list(10, start=2) == [2, 3, 4, 5, 6, 7, 8, 9])\n",
    "assert(range_list(10, start=2, step=2) == [2, 4, 6, 8])\n",
    "assert(range_list(10, start=20, step=-1) == [20, 19, 18, 17, 16, 15, 14, 13, 12, 11])\n",
    "assert(range_list(10, start=20, step=-2) == [20, 18, 16, 14, 12])"
   ]
  },
  {
   "cell_type": "markdown",
   "metadata": {
    "deletable": false,
    "editable": false,
    "nbgrader": {
     "checksum": "39a8c1680781c6a7eb13e15bd88eaae8",
     "grade": false,
     "grade_id": "cell-b5e8a0c3a498b202",
     "locked": true,
     "schema_version": 1,
     "solution": false
    }
   },
   "source": [
    "# 2. Sums of ranges\n",
    "\n",
    "Using the function `range_list`, write another function <b>`sum_range(n)`</b> that computes the sum of the first `n` numbers. If `n` is negative, then the numbers should be generated backwards.\n",
    "\n",
    "For example:\n",
    "* `sum_range(4)` should return `10`, as $1+2+3+4 = 10$.\n",
    "* `sum_range(-3)` should return `-6`, since $(-1)+(-2)+(-3)=-6$.\n",
    "\n",
    "Make sure that `n` is an integer or something that can be converted to an integer. Otherwise, you should raise a `TypeError`.\n",
    "\n",
    "<b>Extra points if you do not use any loop nor the `+` operator.</b>\n",
    "\n",
    "<b>Hint: use Python's built-in <a href=\"https://docs.python.org/3/library/functions.html#sum\">`sum`</a>.</b>"
   ]
  },
  {
   "cell_type": "code",
   "execution_count": 3,
   "metadata": {
    "deletable": false,
    "nbgrader": {
     "checksum": "962420179d2905d425d2913b193df07b",
     "grade": false,
     "grade_id": "cell-dbbc5232aba48b21",
     "locked": false,
     "schema_version": 1,
     "solution": true
    }
   },
   "outputs": [],
   "source": [
    "# YOUR CODE HERE\n",
    "def sum_range(N):\n",
    "    x = range_list(int(N),start=0,step=1)\n",
    "    if int(N) > 0:\n",
    "        y= sum(x,int(N))\n",
    "        return y\n",
    "    elif int(N) < 0:\n",
    "        x = range_list(int(N),start=0,step=-1)\n",
    "        myneglist= [-i for i in x]\n",
    "        y=sum(myneglist,int(-N))\n",
    "        return -y\n",
    "    else:\n",
    "        y=N\n",
    "        return y"
   ]
  },
  {
   "cell_type": "code",
   "execution_count": 4,
   "metadata": {
    "deletable": false,
    "editable": false,
    "nbgrader": {
     "checksum": "b0b793c6e3874d90a37ed60df9cfc497",
     "grade": true,
     "grade_id": "cell-a10fa0542b17ec5b",
     "locked": true,
     "points": 3,
     "schema_version": 1,
     "solution": false
    }
   },
   "outputs": [],
   "source": [
    "assert(sum_range(10) == 55)   # positive\n",
    "assert(sum_range(-10) == -55)   # negative\n",
    "assert(sum_range(0) == 0)    # zero\n",
    "assert(sum_range(1) == 1)    # 1\n",
    "assert(sum_range(-1) == -1)    # 1"
   ]
  },
  {
   "cell_type": "markdown",
   "metadata": {
    "deletable": false,
    "editable": false,
    "nbgrader": {
     "checksum": "8947e148863c5e83794d0a4ec3547b9a",
     "grade": false,
     "grade_id": "cell-b816793df511bce3",
     "locked": true,
     "schema_version": 1,
     "solution": false
    }
   },
   "source": [
    "# 3. Sums of ranges (cont.)\n",
    "\n",
    "It turns out that there is no need to explicitly generate the numbers up to $n$, so that we need not call `range_list`. A well-known mathematical result is the following:\n",
    "$$\\sum_{k=1}^n k = \\frac{n \\times (n+1)}{2}.$$\n",
    "\n",
    "So for example $\\sum_{k=1}^4 k = (4 \\times 5) / 2 = 10$, without actually summing $1 + 2 + 3 + 4$. Given this, implement another function <b>`sum_range_formula(n)`</b> that uses the formula above and with the same requirements `sum_range` has (i.e., it should work with negative numbers and it should raise a `TypeError` if `n` cannot be interpreted as an integer)."
   ]
  },
  {
   "cell_type": "code",
   "execution_count": 5,
   "metadata": {
    "deletable": false,
    "nbgrader": {
     "checksum": "78dbc1031bb0ac7e983ce1df34bd86df",
     "grade": false,
     "grade_id": "cell-32bbfa3d0bbc7c63",
     "locked": false,
     "schema_version": 1,
     "solution": true
    }
   },
   "outputs": [],
   "source": [
    "# YOUR CODE HERE\n",
    "def sum_range_formula(n):\n",
    "    if int(n) > 0:\n",
    "        original = int(n)\n",
    "        subsequent = int(n)+1\n",
    "        multiplication = original*subsequent\n",
    "        division = int(multiplication/2)\n",
    "        return int(division)\n",
    "    elif int(n) < 0:\n",
    "        original = int(n)\n",
    "        subsequent = int(n)-1\n",
    "        multiplication = original*subsequent\n",
    "        division = -(multiplication/2)\n",
    "        return int(division)\n",
    "    else:\n",
    "        return n"
   ]
  },
  {
   "cell_type": "code",
   "execution_count": 6,
   "metadata": {
    "deletable": false,
    "editable": false,
    "nbgrader": {
     "checksum": "9955af012795fcbe5f2ed72b5f2f24db",
     "grade": true,
     "grade_id": "cell-11db8727bb99afb0",
     "locked": true,
     "points": 3,
     "schema_version": 1,
     "solution": false
    }
   },
   "outputs": [],
   "source": [
    "for val in (10, -10, 0, 1, -1, 10.0, '10'):\n",
    "    assert(sum_range_formula(val) == sum_range(val))    # result is the same as for sum_range"
   ]
  },
  {
   "attachments": {
    "image.png": {
     "image/png": "[encoded data removed]"
    }
   },
   "cell_type": "markdown",
   "metadata": {
    "deletable": false,
    "editable": false,
    "nbgrader": {
     "checksum": "e555c0c22ba2fc99928c3f818b9dfb8f",
     "grade": false,
     "grade_id": "cell-5aec764c16f7281e",
     "locked": true,
     "schema_version": 1,
     "solution": false
    }
   },
   "source": [
    "# 4. Triangular numbers\n",
    "\n",
    "Now, if we call `sum_range_formula` for increasing values of `n`, we obtain the so-called <a href=\"https://en.wikipedia.org/wiki/Triangular_number\">triangular numbers</a> $T_n$:\n",
    "\n",
    "$$\n",
    "T_0 = 0 = (0 \\times 1)/2 = 0, \\\\\n",
    "T_1 = 0 + 1 = (1 \\times 2)/2 = 1, \\\\\n",
    "T_2 = 0 + 1 + 2 = (2 \\times 3)/2 = 3, \\\\\n",
    "T_3 = 0 + 1 + 2 + 3 = (3 \\times 4)/2 = 6, \\\\\n",
    "T_4 = 0 + 1 + 2 + 3 + 4 = (4 \\times 5)/2 = 10, \\\\\n",
    "T_5 = 0 + 1 + 2 + 3 + 4 + 5 = (5 \\times 6)/2 = 15, \\\\\n",
    "T_6 = 0 + 1 + 2 + 3 + 4 + 5 + 6 = (6 \\times 7)/2 = 21, \\\\\n",
    "\\cdots\n",
    "$$\n",
    "\n",
    "Graphically this is very easy to understand, and it becomes crystal clear why they are called \"triangular\":\n",
    "\n",
    "![image.png](attachment:image.png)\n",
    "\n",
    "With this in mind, write a function <b>`triangular_numbers(n, all_previous)`</b> that computes the following:\n",
    "* If `all_previous=False` (the default), it just returns $T_n$.\n",
    "* If `all_previous=True`, it should return the list with all triangular numbers up to the requested one, i.e. $[T_0, T_1, \\ldots, T_n]$.\n",
    "\n",
    "For example:\n",
    "* `triangular_numbers(4)` and `triangular_numbers(4, all_previous=False)` should return `10`. \n",
    "* `triangular_numbers(4, all_previous=True)` should give you `[0, 1, 3, 6, 10]`.\n",
    "\n",
    "This time not only does `n` need to be an integer, but it should be non-negative as well (if it is negative, you should raise a `ValueError`). Make sure `all_previous` is valid too.\n",
    "\n",
    "<b>Extra points if for the case `all_previous=True` you use a single loop and do not call `sum_range_formula` (nor `sum_range`!) to calculate each $T_k, 0 \\leq k \\leq n$ in the list.</b>\n",
    "\n",
    "<b>Hint: observe the difference between a triangular number $T_k$ and the next triangular number $T_{k+1}$.</b>"
   ]
  },
  {
   "cell_type": "code",
   "execution_count": 7,
   "metadata": {
    "deletable": false,
    "nbgrader": {
     "checksum": "6cb14a6211391834f97c34d126c8fb74",
     "grade": false,
     "grade_id": "cell-9fd2c8751e9dabe5",
     "locked": false,
     "schema_version": 1,
     "solution": true
    }
   },
   "outputs": [],
   "source": [
    "# YOUR CODE HERE\n",
    "def triangular_numbers(n, all_previous=False):\n",
    "    \n",
    "    if all_previous == False:\n",
    "        return sum_range_formula(n)\n",
    "    l=[]\n",
    "    if all_previous == True:\n",
    "        for i in range(0,int(n)+1):\n",
    "            l.append(sum_range_formula(i))\n",
    "        return l"
   ]
  },
  {
   "cell_type": "code",
   "execution_count": 8,
   "metadata": {
    "deletable": false,
    "editable": false,
    "nbgrader": {
     "checksum": "679efb7038577ab51cf8b830c519a6b7",
     "grade": true,
     "grade_id": "cell-4501e707219df62c",
     "locked": true,
     "points": 6,
     "schema_version": 1,
     "solution": false
    }
   },
   "outputs": [],
   "source": [
    "assert(triangular_numbers(0) == 0)   # zero\n",
    "assert(triangular_numbers(0, all_previous=True) == [0])   # zero in list form\n",
    "assert(triangular_numbers(4, all_previous=False) == 10)   # normal case\n",
    "assert(triangular_numbers(4, all_previous=True) == [0, 1, 3, 6, 10])   # list case\n",
    "assert(triangular_numbers('4') == 10)   # can be converted to int\n",
    "assert(triangular_numbers(4.0, all_previous=True) == [0, 1, 3, 6, 10])   # same"
   ]
  },
  {
   "cell_type": "markdown",
   "metadata": {
    "deletable": false,
    "editable": false,
    "nbgrader": {
     "checksum": "d5086ba2549635e232e98d9299490c41",
     "grade": false,
     "grade_id": "cell-0dc29431f9a7dd3b",
     "locked": true,
     "schema_version": 1,
     "solution": false
    }
   },
   "source": [
    "# 5. Tetrahedral numbers\n",
    "\n",
    "We have just seen that triangular numbers $T_n$ can be interpreted as the total number of dots that compose an equilateral triangle whose edges have $n$ dots. We can add a 3rd dimension and build a triangular pyramid of balls. Take a look at this one:\n",
    "\n",
    "<img src=\"https://upload.wikimedia.org/wikipedia/commons/d/d5/Pyramid_of_35_spheres_animation.gif\"></img>\n",
    "\n",
    "How many balls do we need? Well, we need $T_5 + T_4 + T_3 + T_2 + T_1 = 15 + 10 + 6 + 3 + 1 = 35$ balls, as each storey of the pyramid is composed of a triangle with decreasing $n$ edge balls, starting with $n=5$. This logic gives rise to the so-called <a href=\"https://en.wikipedia.org/wiki/Tetrahedral_number\">tetrahedral numbers</a> (a \"tetrahedron\" is a pyramid composed of equilateral triangles). Denoting them as $\\Delta_n$ we have that:\n",
    "\n",
    "$$\\Delta_n = \\sum_{k=0}^n T_k = \\sum_{k=0}^n \\frac{k \\times (k+1)}{2}.$$\n",
    "\n",
    "Write a function <b>`tetrahedral_numbers(n, all_previous)`</b> that has the same internal logic as `triangular_numbers`. For example:\n",
    "\n",
    "* `tetrahedral_numbers(5)` and `tetrahedral_numbers(5, all_previous=False)` should return `35`. \n",
    "* `tetrahedral_numbers(5, all_previous=True)` should give you `[0, 1, 4, 10, 20, 35]`.\n",
    "\n",
    "<b>Extra points if for the case `all_previous=False` you do not call `triangular_numbers` (nor use any loop or `sum`!).</b>\n",
    "\n",
    "<b>Hint: there is a direct formula to obtain $\\Delta_n$ (just as there is one to obtain $T_n$). You can infer it by using the fact that $$\\sum_{k=1}^n k^2 = \\frac{n \\times (n+1) \\times (2n+1)}{6}.$$</b>"
   ]
  },
  {
   "cell_type": "code",
   "execution_count": 9,
   "metadata": {
    "deletable": false,
    "nbgrader": {
     "checksum": "943f33610b1f3a3b0eadaa14213aeda7",
     "grade": false,
     "grade_id": "cell-de299e73f692f965",
     "locked": false,
     "schema_version": 1,
     "solution": true
    }
   },
   "outputs": [],
   "source": [
    "# YOUR CODE HERE\n",
    "def tetrahedral_numbers(n,all_previous=False):\n",
    "    if all_previous == False:\n",
    "        return sum(triangular_numbers(n,all_previous=True))\n",
    "    elif all_previous == True:\n",
    "        l=[]\n",
    "        for i in range (0,int(n)+1):\n",
    "            l.append(i)\n",
    "            a=[]\n",
    "        total=0\n",
    "        for i in range(int(n)+1):\n",
    "            aux=(i*(i+1))/2\n",
    "            total=total+aux\n",
    "            l[i]=int(total)\n",
    "            \n",
    "        return l"
   ]
  },
  {
   "cell_type": "code",
   "execution_count": 10,
   "metadata": {
    "deletable": false,
    "editable": false,
    "nbgrader": {
     "checksum": "14f5b957919951643ad100699c7b8cca",
     "grade": true,
     "grade_id": "cell-652cb7d850e712fb",
     "locked": true,
     "points": 8,
     "schema_version": 1,
     "solution": false
    }
   },
   "outputs": [],
   "source": [
    "assert(tetrahedral_numbers(0) == 0)   # zero\n",
    "assert(tetrahedral_numbers(0, all_previous=True) == [0])   # zero in list form\n",
    "assert(tetrahedral_numbers(5, all_previous=False) == 35)   # normal case\n",
    "assert(tetrahedral_numbers(5, all_previous=True) == [0, 1, 4, 10, 20, 35])   # list case\n",
    "assert(tetrahedral_numbers('5') == 35)   # can be converted to int\n",
    "assert(tetrahedral_numbers(5.0, all_previous=True) == [0, 1, 4, 10, 20, 35])   # same"
   ]
  },
  {
   "cell_type": "markdown",
   "metadata": {
    "deletable": false,
    "editable": false,
    "nbgrader": {
     "checksum": "865953050b1d36175aea1a9c6843778d",
     "grade": false,
     "grade_id": "cell-95a5b5099a00f8c2",
     "locked": true,
     "schema_version": 1,
     "solution": false
    }
   },
   "source": [
    "# 6. Binomial coefficients\n",
    "\n",
    "Let us move on to another kind of integers. The <a href=\"https://en.wikipedia.org/wiki/Binomial_coefficient\">binomial coefficients</a> are defined as the numbers:\n",
    "$${n \\choose k} = \\frac{n!}{k! \\times (n-k)!}, \\quad 0 \\leq k \\leq n,$$\n",
    "\n",
    "where $x!$ denotes the factorial of $x$ and, because $0! = 1$, the limit cases are \n",
    "$${n \\choose 0} = {n \\choose n} = 1.$$\n",
    "\n",
    "Implement a function <b>`binomial(n, k)`</b> that computes the above formula. As before, make sure that `n` and `k` are integers and not out of limits. Otherwise, you should raise `TypeError` and `ValueError`, respectively.\n",
    "\n",
    "<b>Extra points if you do something more efficient than `factorial(n) / (factorial(k)*factorial(n-k))`.</b> In any case, remember that `factorial` is available in the <a href=\"https://docs.python.org/3/library/math.html\">`math`</a> library.\n",
    "\n",
    "<b>Hint: observe that due to symmetry ${n \\choose k} = {n \\choose n-k}$ and that some of the terms in the denominator cancel out some of the terms in the numerator.</b>"
   ]
  },
  {
   "cell_type": "code",
   "execution_count": 11,
   "metadata": {
    "deletable": false,
    "nbgrader": {
     "checksum": "610f2962f4db02f005ad62a478584eab",
     "grade": false,
     "grade_id": "cell-3868f8c809afb05e",
     "locked": false,
     "schema_version": 1,
     "solution": true
    }
   },
   "outputs": [],
   "source": [
    "# YOUR CODE HERE\n",
    "def binomial(n,k):\n",
    "    if (type(n) != int) or (type(k) != int):\n",
    "        raise TypeError('N and K must be integers')    # no return needed\n",
    "    if n < 0 or k <0:   # now N for sure is an int\n",
    "        raise ValueError('N and K cannot be negative!')\n",
    "    if n < k:\n",
    "        raise ValueError('K must be smaller than N')\n",
    "    a=1\n",
    "    for i in range(1,n+1):\n",
    "        a=a*i\n",
    "    b=1\n",
    "    for i in range(1,k+1):\n",
    "        b=b*i\n",
    "    c=n-k\n",
    "    d=1\n",
    "    for i in range(1,c+1):\n",
    "        d=d*i\n",
    "    return int((a)/((b)*(d)))"
   ]
  },
  {
   "cell_type": "code",
   "execution_count": 12,
   "metadata": {
    "deletable": false,
    "editable": false,
    "nbgrader": {
     "checksum": "1e578e4bce084e21615ea9cc42e2a19e",
     "grade": true,
     "grade_id": "cell-94e9cd9a1794c22d",
     "locked": true,
     "points": 8,
     "schema_version": 1,
     "solution": false
    }
   },
   "outputs": [],
   "source": [
    "assert(binomial(0, 0) == 1)   # (0 0)\n",
    "assert(binomial(1, 0) == 1)   # (1 0)\n",
    "assert(binomial(1, 1) == 1)   # (1 1)\n",
    "assert([binomial(2, i) for i in range(3)] == [1, 2, 1])     # (2 0), (2 1), (2 2)\n",
    "assert([binomial(3, i) for i in range(4)] == [1, 3, 3, 1])    # (3 0), (3 1), (3 2), (3 3)\n",
    "assert([binomial(4, i) for i in range(5)] == [1, 4, 6, 4, 1])    # (4 0), (4 1), (4 2), (4 3), (4 4)"
   ]
  },
  {
   "cell_type": "markdown",
   "metadata": {
    "deletable": false,
    "editable": false,
    "nbgrader": {
     "checksum": "a10324bac878653e1ab66a2970236c25",
     "grade": false,
     "grade_id": "cell-a9b262e0a1518b7a",
     "locked": true,
     "schema_version": 1,
     "solution": false
    }
   },
   "source": [
    "# 7. Pascal's triangles\n",
    "\n",
    "The binomial coefficients can be arranged in the so-called <a href=\"https://en.wikipedia.org/wiki/Pascal%27s_triangle\">Pascal's triangle</a>, whose $n$-th row is formed with the numbers ${n \\choose k}, 0 \\leq k \\leq n.$ Its first rows are thus the following:\n",
    "\n",
    "$$\n",
    "1 \\\\\n",
    "1 \\; 1 \\\\\n",
    "1 \\; 2 \\; 1 \\\\\n",
    "1 \\; 3 \\; 3 \\; 1 \\\\\n",
    "1 \\; 4 \\; 6 \\; 4 \\; 1 \\\\\n",
    "1 \\; 5 \\; 10 \\; 10 \\; 5 \\; 1 \\\\\n",
    "1 \\; 6 \\; 15 \\; 20 \\; 15 \\; 6 \\; 1 \\\\\n",
    "1 \\; 7 \\; 21 \\; 35 \\; 35 \\; 21 \\; 7 \\; 1 \\\\\n",
    "$$\n",
    "\n",
    "Observe that in this triangle each number can be computed as the sum of the two numbers that are on top of it. For instance, in the 4-th row the 6 in the middle is the sum of the two 3s on top of it. This is due to the recurrence:\n",
    "\n",
    "$${n \\choose k} = {n-1 \\choose k-1} + {n-1 \\choose k}.$$\n",
    "\n",
    "Graphically:\n",
    "\n",
    "<img src=\"https://upload.wikimedia.org/wikipedia/commons/thumb/0/0d/PascalTriangleAnimated2.gif/220px-PascalTriangleAnimated2.gif\"></img>\n",
    "\n",
    "With this in mind, code a function <b>`pascal_triangle(row)`</b> that generates the triangle until the specified row (inclusive). Because there is no triangular native structure in Python, we will adopt the following convention:\n",
    "* The triangle is in dictionary form.\n",
    "* Each row is stored in `key:value` format, with `key` the row index (starting in 0).\n",
    "* `value` is the list with the `key`-th row of the triangle.\n",
    "\n",
    "For example, `pascal_triangle(4)` should return the following dictionary:\n",
    "`{0: [1], 1: [1, 1], 2: [1, 2, 1], 3: [1, 3, 3, 1], 4: [1, 4, 6, 4, 1]}`.\n",
    "\n",
    "<b>Extra points if you are able to:\n",
    "* Take advantage of symmetry (for example, in row 5 once you have computed `[1, 5, 10]` the rest of the row is its reflection `[10, 5, 1]`, so there is no need to calculate this second half).\n",
    "* Use the recurrence above, so that you need not call `binomial`.</b>"
   ]
  },
  {
   "cell_type": "code",
   "execution_count": 13,
   "metadata": {
    "deletable": false,
    "nbgrader": {
     "checksum": "93fdaa1808ffa83c93faa9f10ebb3513",
     "grade": false,
     "grade_id": "cell-fd77ef1cfbba1edd",
     "locked": false,
     "schema_version": 1,
     "solution": true
    }
   },
   "outputs": [],
   "source": [
    "# YOUR CODE HERE\n",
    "def pascal_triangle(row):\n",
    "    d={}\n",
    "    for j in range(int(row)+1):\n",
    "        d[j]=[]\n",
    "        for i in range(0,j+1):\n",
    "            aux=d[j]\n",
    "            aux.append(binomial(j,i))\n",
    "    return d"
   ]
  },
  {
   "cell_type": "code",
   "execution_count": 14,
   "metadata": {
    "deletable": false,
    "editable": false,
    "nbgrader": {
     "checksum": "898bd364e9a8316c569d3e1dc0dcdd3e",
     "grade": true,
     "grade_id": "cell-b362d07d2bd39d7a",
     "locked": true,
     "points": 12,
     "schema_version": 1,
     "solution": false
    }
   },
   "outputs": [],
   "source": [
    "assert(pascal_triangle(0) == {0: [1]})\n",
    "assert(pascal_triangle('1') == {0: [1], 1: [1, 1]})\n",
    "assert(pascal_triangle(2.0) == {0: [1], 1: [1, 1], 2: [1, 2, 1]})\n",
    "assert(pascal_triangle(4) == {0: [1], \n",
    "                              1: [1, 1], \n",
    "                              2: [1, 2, 1], \n",
    "                              3: [1, 3, 3, 1], \n",
    "                              4: [1, 4, 6, 4, 1]})"
   ]
  },
  {
   "cell_type": "markdown",
   "metadata": {
    "deletable": false,
    "editable": false,
    "nbgrader": {
     "checksum": "3528e0453bf198db8e640135db845ccd",
     "grade": false,
     "grade_id": "cell-8c10088af8ef97bd",
     "locked": true,
     "schema_version": 1,
     "solution": false
    }
   },
   "source": [
    "# 8. Pascal's triangles (cont.)\n",
    "\n",
    "A Pascal's triangle has many interesting properties. Let us now use some of them to check whether a given dictionary in the format above obeys these properties:\n",
    "\n",
    "* Row properties:\n",
    "    1. The sum of the elements of the $n$-th row is $2^n$, i.e. $\\sum_{k=0}^n {n \\choose k} = 2^n$. For example, in row $n=3$ we have $1 + 3 + 3 + 1 = 8 = 2^3$.\n",
    "    2. The sum of the squared elements of the $n$-th row is the middle element of row $2n$, i.e. $\\sum_{k=0}^n {n \\choose k}^2 = {2n \\choose n}$. For example, in row $n=3$ we have $1^2 + 3^2 + 3^2 + 1^2 = 20$, which is the middle element of row $2n = 6$.\n",
    "    3. The number of odd terms in the $n$-th row is $2^x$, where $x$ is the number of 1s in the binary representation of $n$. For example, in row 5 the number of odd terms is 4 (terms 1, 5, 5 and 1), and $4 = 2^2$, so $x=2$, which matches with the fact that the binary representation of 5 ('101') has two 1s.\n",
    "    4. For rows with an odd number of terms, if you start with the middle element, subtract the two numbers next to it, then add the following two numbers, then substract the following two, and so on till you get to the outer diagonals, you will always obtain 0. For example, in row 4:\n",
    "    $$6 - (4+4) + (1+1) = 0.$$\n",
    "    And for row 6:\n",
    "    $$20 - (15+15) + (6+6) - (1+1) = 0.$$\n",
    "    \n",
    "* Diagonal properties:\n",
    "    1. The outer diagonals are all made of 1s.\n",
    "    2. The next diagonals are made of successive numbers: $1, 2, 3, 4, 5, 6, 7, \\ldots$\n",
    "    3. The next diagonals are made of successive triangular numbers $T_k$: $1, 3, 6, 10, 15, 21, \\ldots$\n",
    "    4. The next diagonals are made of successive tetrahedral numbers $\\Delta_k$: $1, 4, 10, 20, 35, \\ldots$\n",
    "    \n",
    "To conclude this assignment, let us code three functions to carry out these checks:\n",
    "\n",
    "* <b>`check_pascal_rows(triangle)`</b> returns (`True`, `None`) if the rows of the triangle passed (in dictionary format) comply with the 4 row properties enumerated. Otherwise, it should return a tuple `(False, num)`, where `num` is the property number that failed (starting in 1). Properties should be checked in the same order enumerated above.\n",
    "* <b>`check_pascal_diagonals(triangle)`</b> does the same, but with diagonal properties instead of row ones.\n",
    "* <b>`check_pascal_triangle(triangle)`</b> returns whether the given triangle complies with row and diagonal properties ((`True`, `None`) if it does) or not. In case it does not, it should return a tuple `(False, (reason, num))`, where `num` is the same as above and `reason` is `'rows'` or `'diagonals'` depending on which one failed. \n",
    "\n",
    "Be careful with limits! For example, if you have a small triangle with just the first 2 rows (i.e., ``{0: [1], 1: [1, 1]}``) there are no 3rd or 4th diagonals, but it is a perfectly valid Pascal triangle, so checks should be `True`.\n",
    "\n",
    "Be also careful to check inside `check_pascal_triangle` that the dictionary passed is actually a triangle before calling `check_pascal_rows` and `check_pascal_diagonals`! If not, you should return `(False, ('shape', None))` to indicate this.\n",
    "\n",
    "<b>Hint: for the 3rd row property you can use the built-in <a href=\"https://docs.python.org/3/library/functions.html#bin\">`bin`</a>, which gives the binary representation of a number in string form. You may also find the built-ins <a href=\"https://docs.python.org/3/library/functions.html#all\">`all`</a> and <a href=\"\">`any`</a> to be useful, when checking whether some condition holds or does not hold for several elements at once.</b>"
   ]
  },
  {
   "cell_type": "code",
   "execution_count": 15,
   "metadata": {
    "deletable": false,
    "nbgrader": {
     "checksum": "b89597cdaaf9e858f056ec9976ec5b0f",
     "grade": false,
     "grade_id": "cell-cb519da34b5a6638",
     "locked": false,
     "schema_version": 1,
     "solution": true
    }
   },
   "outputs": [],
   "source": [
    "# YOUR CODE HERE\n",
    "def check_pascal_rows(triangle):\n",
    "    import math as m\n",
    "    for row,values in triangle.items():\n",
    "        #Row_Rule_1\n",
    "        if pow(2,row) != sum(values):\n",
    "            return (False,1)\n",
    "        #Row_Rule_3\n",
    "        if row>0:\n",
    "            odd_terms=sum([1 if x%2==1 else 0 for x in values])\n",
    "            Number_of_ones=int(m.log(odd_terms,2))\n",
    "            binary_ones=bin(row)[2:].count('1')\n",
    "            if Number_of_ones != binary_ones:\n",
    "                return(False,3)\n",
    "    return(True,None)\n",
    "\n",
    "def check_pascal_diagonals(triangle):\n",
    "    for row,values in triangle.items():\n",
    "        #Diag_Rule_1\n",
    "        if values[0] != 1 or values[-1] != 1:\n",
    "            return (False,1)\n",
    "        #Diag_Rule_2\n",
    "        if row>0:\n",
    "            if values[1] != row or values[-2] != row:\n",
    "                return (False,2)\n",
    "    return (True,None)\n",
    "\n",
    "def check_pascal_triangle(triangle):\n",
    "    for row,values in triangle.items():\n",
    "        if len(values) != row + 1:\n",
    "            return(False,(\"shape\", None))\n",
    "    row_test=check_pascal_rows(triangle)\n",
    "    if row_test[0]==False:\n",
    "        return (False,('rows',row_test[1]))\n",
    "    diag_test=check_pascal_diagonals(triangle)\n",
    "    if diag_test[0]==False:\n",
    "        return (False,('diagonals',diag_test[1]))\n",
    "    return (True,None)"
   ]
  },
  {
   "cell_type": "code",
   "execution_count": 16,
   "metadata": {
    "deletable": false,
    "editable": false,
    "nbgrader": {
     "checksum": "a8baa972828bd433e3941ce0ece7879f",
     "grade": true,
     "grade_id": "cell-924a7935e69f5c72",
     "locked": true,
     "points": 25,
     "schema_version": 1,
     "solution": false
    }
   },
   "outputs": [],
   "source": [
    "for n in range(10):\n",
    "    aux = pascal_triangle(n)   # valid Pascal triangle\n",
    "    assert(check_pascal_rows(aux) == (True, None))      # so valid rows\n",
    "    assert(check_pascal_diagonals(aux) == (True, None))      # and valid diagonals\n",
    "    assert(check_pascal_triangle(aux) == (True, None))    # so valid triangle overall\n",
    "assert(check_pascal_triangle({}) == (True, None))     # empty triangle is valid too\n",
    "wrong_triangle = {0: [2]}     # wrong because 0th row should be [1]\n",
    "assert(check_pascal_rows(wrong_triangle) == (False, 1))     # row property 1 fails\n",
    "assert(check_pascal_diagonals(wrong_triangle) == (False, 1))     # diagonal property 1 fails\n",
    "assert(check_pascal_triangle(wrong_triangle) == (False, ('rows', 1)))    # rows checked before diagonals\n",
    "wrong_triangle = {0: [1], 1: [1, 1], 2: [1, 3, 1]}     # wrong because 2nd row should be [1, 2, 1]\n",
    "assert(check_pascal_rows(wrong_triangle) == (False, 1))     # row property 1 fails\n",
    "assert(check_pascal_diagonals(wrong_triangle) == (False, 2))     # diagonal property 2 fails, 1 is ok\n",
    "assert(check_pascal_triangle(wrong_triangle) == (False, ('rows', 1)))    # rows checked before diagonals\n",
    "wrong_triangle = {0: [1], 1: [1, 1], 2: [1, 2, 1], 3: [1, 6, 1]}   # wrong because 3rd row should be [1, 3, 3, 1]\n",
    "assert(check_pascal_rows(wrong_triangle) == (False, 3))    # row property 3 fails, 1 and 2 ok\n",
    "assert(check_pascal_diagonals(wrong_triangle) == (False, 2))   # diagonal property 2 fails, 1 is ok\n",
    "assert(check_pascal_triangle(wrong_triangle) == (False, ('shape', None)))    # not a triangle\n",
    "wrong_triangle = {0: [1], 1: [1, 1], 2: [1, 2, 1], \n",
    "                  3: [1, 3, 3, 1], 4: [1, 3.5, 6, 4.5, 1]}   # wrong because 4th row should be [1, 4, 6, 4, 1]\n",
    "assert(check_pascal_rows(wrong_triangle) == (True, None))    # row properties hold\n",
    "assert(check_pascal_diagonals(wrong_triangle) == (False, 2))   # diagonal property 2 fails, 1 is ok\n",
    "assert(check_pascal_triangle(wrong_triangle) == (False, ('diagonals', 2)))    # rows pass, but diagonals don't"
   ]
  },
  {
   "cell_type": "markdown",
   "metadata": {
    "deletable": false,
    "editable": false,
    "nbgrader": {
     "checksum": "6f7c7f6012a90dbe81ad9750e9c99326",
     "grade": false,
     "grade_id": "cell-bf827ecd11c84433",
     "locked": true,
     "schema_version": 1,
     "solution": false
    }
   },
   "source": [
    "# 9. Final boss\n",
    "\n",
    "Congratulations if you arrived here! As a final brain teaser, let me tell you the following: every Pascal's triangle must satisfy all 8 properties checked above, but a triangle that satisfies them is not necessarily a Pascal's triangle.\n",
    "\n",
    "So, given this fact, can you come up with <b>a triangle that passes all checks (i.e., for which `pascal_triangle` returns `(True, None)`), but actually is not a Pascal triangle</b>? If so, assign it to a variable `FAKE_TRIANGLE` below:"
   ]
  },
  {
   "cell_type": "code",
   "execution_count": 17,
   "metadata": {
    "deletable": false,
    "nbgrader": {
     "checksum": "f0827baf1a0d320bd939d2e4dfdc2119",
     "grade": false,
     "grade_id": "cell-0797cef4ce113fe3",
     "locked": false,
     "schema_version": 1,
     "solution": true
    }
   },
   "outputs": [],
   "source": [
    "# YOUR CODE HERE\n",
    "a=pascal_triangle(14)\n",
    "b=a[13][4]\n",
    "c=a[13][5]\n",
    "a[13][4]=c\n",
    "a[13][5]=b\n",
    "FAKE_TRIANGLE=a"
   ]
  },
  {
   "cell_type": "code",
   "execution_count": 18,
   "metadata": {
    "deletable": false,
    "editable": false,
    "nbgrader": {
     "checksum": "e03c9d800da83877a1136916ce8f422a",
     "grade": true,
     "grade_id": "cell-53c6f9880cd4e30f",
     "locked": true,
     "points": 14,
     "schema_version": 1,
     "solution": false
    }
   },
   "outputs": [],
   "source": [
    "assert(check_pascal_rows(FAKE_TRIANGLE) == (True, None))    # rows ok\n",
    "assert(check_pascal_diagonals(FAKE_TRIANGLE) == (True, None))    # diagonals ok\n",
    "assert(check_pascal_triangle(FAKE_TRIANGLE) == (True, None))   # full triangle apparently ok\n",
    "assert(FAKE_TRIANGLE != pascal_triangle(len(FAKE_TRIANGLE)-1))   # but different from actual Pascal's triangle"
   ]
  }
 ],
 "metadata": {
  "kernelspec": {
   "display_name": "Python 3",
   "language": "python",
   "name": "python3"
  },
  "language_info": {
   "codemirror_mode": {
    "name": "ipython",
    "version": 3
   },
   "file_extension": ".py",
   "mimetype": "text/x-python",
   "name": "python",
   "nbconvert_exporter": "python",
   "pygments_lexer": "ipython3",
   "version": "3.7.0"
  }
 },
 "nbformat": 4,
 "nbformat_minor": 2
}
